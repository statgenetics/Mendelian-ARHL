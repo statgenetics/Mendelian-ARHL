{
 "cells": [
  {
   "cell_type": "markdown",
   "id": "ab62cae9-567b-49f3-ba2d-b2f940cccbe8",
   "metadata": {
    "kernel": "SoS"
   },
   "source": [
    "# Mendelian non-syndromic and syndromic hearing loss genes contribute to presbycusis\n",
    "\n",
    "## Description:\n",
    "\n",
    "Create a table with the significant associations for the single and rare-variant summary statistics. "
   ]
  },
  {
   "cell_type": "markdown",
   "id": "028145c8-5980-4590-b861-6e52aea39928",
   "metadata": {
    "kernel": "Python3"
   },
   "source": [
    "## Create tables for rare-variant aggregate summary statistics"
   ]
  },
  {
   "cell_type": "code",
   "execution_count": 1,
   "id": "0584b195-d7db-4e1a-8183-094a174d4f3b",
   "metadata": {
    "kernel": "Python3"
   },
   "outputs": [],
   "source": [
    "import pandas as pd"
   ]
  },
  {
   "cell_type": "code",
   "execution_count": 2,
   "id": "59424dc2-2b24-45b8-a5cc-4822fad0d3b4",
   "metadata": {
    "editable": true,
    "kernel": "Python3",
    "slideshow": {
     "slide_type": ""
    },
    "tags": []
   },
   "outputs": [],
   "source": [
    "# Read the four files\n",
    "df1 = pd.read_csv('~/UKBiobank/RAP/results/autosomal/aggregate/RAP1/Haid_CADD_skato_0.005/f3393.regenie', comment='#', sep=\" \")\n",
    "df2 = pd.read_csv('~/UKBiobank/RAP/results/autosomal/aggregate/RAP1/Hdiff_CADD_skato_0.005/f2247.regenie',comment='#', sep=\" \")\n",
    "df3 = pd.read_csv('~/UKBiobank/RAP/results/autosomal/aggregate/RAP1/Hnoise_CADD_skato_0.005/f2257.regenie',comment='#', sep=\" \")\n",
    "df4 = pd.read_csv('~/UKBiobank/RAP/results/autosomal/aggregate/RAP1/Hboth_CADD_skato_0.005/f2247_f2257.regenie',comment='#', sep=\" \")"
   ]
  },
  {
   "cell_type": "code",
   "execution_count": 3,
   "id": "db8f7548-3d8e-4a71-ac2d-50435a09ce6d",
   "metadata": {
    "editable": true,
    "kernel": "Python3",
    "slideshow": {
     "slide_type": ""
    },
    "tags": []
   },
   "outputs": [],
   "source": [
    "# Select required columns for each phenotype\n",
    "df1_selected = df1[['CHROM', 'GENPOS', 'ID', 'ALLELE1', 'A1FREQ', 'TEST', 'BETA', 'SE', 'LOG10P']]\n",
    "df2_selected = df2[['CHROM', 'GENPOS', 'ID', 'ALLELE1', 'A1FREQ', 'TEST', 'BETA', 'SE', 'LOG10P']]\n",
    "df3_selected = df3[['CHROM', 'GENPOS', 'ID', 'ALLELE1', 'A1FREQ', 'TEST', 'BETA', 'SE', 'LOG10P']]\n",
    "df4_selected = df4[['CHROM', 'GENPOS', 'ID', 'ALLELE1', 'A1FREQ', 'TEST', 'BETA', 'SE', 'LOG10P']]"
   ]
  },
  {
   "cell_type": "code",
   "execution_count": 4,
   "id": "0ef26d06-3bae-467a-9d7f-39c2f93314fd",
   "metadata": {
    "kernel": "Python3",
    "tags": []
   },
   "outputs": [],
   "source": [
    "# Rename columns to include the phenotype name\n",
    "df1_selected.columns = ['CHROM', 'GENPOS', 'ID', 'ALLELE1', 'A1FREQ_f3393','TEST', 'BETA_f3393', 'SE_f3393', 'LOG10P_f3393']\n",
    "df2_selected.columns = ['CHROM', 'GENPOS', 'ID', 'ALLELE1', 'A1FREQ_f2247','TEST', 'BETA_f2247', 'SE_f2247', 'LOG10P_f2247']\n",
    "df3_selected.columns = ['CHROM', 'GENPOS', 'ID', 'ALLELE1', 'A1FREQ_f2257','TEST', 'BETA_f2257', 'SE_f2257', 'LOG10P_f2257']\n",
    "df4_selected.columns = ['CHROM', 'GENPOS', 'ID', 'ALLELE1', 'A1FREQ_f2247_f2257', 'TEST', 'BETA_f2247_f2257', 'SE_f2247_f2257', 'LOG10P_f2247_f2257']"
   ]
  },
  {
   "cell_type": "code",
   "execution_count": 5,
   "id": "ac784745-a23f-4657-b649-3311ad7e4121",
   "metadata": {
    "kernel": "Python3",
    "tags": []
   },
   "outputs": [],
   "source": [
    "# Merge dataframes on common columns (CHROM and GENPOS)\n",
    "merged_df = pd.merge(df1_selected, df2_selected, on=['CHROM', 'GENPOS', 'ID', 'ALLELE1', 'TEST'], how='outer')\n",
    "merged_df_1 = pd.merge(merged_df, df3_selected, on=['CHROM', 'GENPOS', 'ID', 'ALLELE1', 'TEST'], how='outer')\n",
    "merged_df_2 = pd.merge(merged_df_1, df4_selected, on=['CHROM', 'GENPOS', 'ID', 'ALLELE1', 'TEST'], how='outer')"
   ]
  },
  {
   "cell_type": "code",
   "execution_count": 6,
   "id": "e0638233-9edb-4154-b2bb-377d922e5525",
   "metadata": {
    "kernel": "Python3"
   },
   "outputs": [],
   "source": [
    "mask = merged_df_2['CHROM'].str.contains('CHROM')\n",
    "\n",
    "# Drop those rows\n",
    "merged_df_3= merged_df_2[~mask]"
   ]
  },
  {
   "cell_type": "code",
   "execution_count": null,
   "id": "e27a3fe5-cf85-4f77-837b-86fa58bfebe2",
   "metadata": {
    "kernel": "Python3",
    "tags": []
   },
   "outputs": [],
   "source": [
    "merged_df_3[['LOG10P_f3393', 'LOG10P_f2247', 'LOG10P_f2257', 'LOG10P_f2247_f2257']] = merged_df_3[['LOG10P_f3393', 'LOG10P_f2247', 'LOG10P_f2257', 'LOG10P_f2247_f2257']].apply(pd.to_numeric, errors='coerce')"
   ]
  },
  {
   "cell_type": "code",
   "execution_count": null,
   "id": "c150da06-684c-4907-8d1b-5f1e540c63e4",
   "metadata": {
    "kernel": "Python3",
    "tags": []
   },
   "outputs": [],
   "source": [
    "merged_df_3[['P_f3393', 'P_f2247', 'P_f2257', 'P_f2247_f2257']] = 10 ** -merged_df_3[['LOG10P_f3393', 'LOG10P_f2247', 'LOG10P_f2257', 'LOG10P_f2247_f2257']]"
   ]
  },
  {
   "cell_type": "code",
   "execution_count": null,
   "id": "008492f9-756b-4bc5-8a9a-ec761295108b",
   "metadata": {
    "kernel": "Python3",
    "tags": []
   },
   "outputs": [],
   "source": [
    "# Ensure 'TEST' column is a string type\n",
    "merged_df_3['TEST'] = merged_df_3['TEST'].astype(str)\n",
    "\n",
    "# Ensure 'P_1', 'P_2', 'P_3', 'P_4' columns are numeric types\n",
    "merged_df_3[['P_f3393', 'P_f2247', 'P_f2257', 'P_f2247_f2257']] = merged_df_3[['P_f3393', 'P_f2247', 'P_f2257', 'P_f2247_f2257']].apply(pd.to_numeric, errors='coerce')\n"
   ]
  },
  {
   "cell_type": "code",
   "execution_count": 13,
   "id": "5407b818-bafd-41cb-894b-466716dea94e",
   "metadata": {
    "kernel": "Python3",
    "tags": []
   },
   "outputs": [],
   "source": [
    "skato_result = merged_df_3.loc[(merged_df_3['TEST'] == 'ADD-SKATO')  & ((merged_df_3['P_f3393'] <= 2.5e-06) | (merged_df_3['P_f2247'] <= 2.5e-06) | (merged_df_3['P_f2257'] <= 2.5e-06) | (merged_df_3['P_f2247_f2257'] <= 2.5e-06))]"
   ]
  },
  {
   "cell_type": "code",
   "execution_count": null,
   "id": "4d1752be-cbf7-40ad-ab0d-6228162cce78",
   "metadata": {
    "kernel": "Python3",
    "scrolled": true,
    "tags": []
   },
   "outputs": [],
   "source": [
    "skato_result['CHROM'] = skato_result['CHROM'].astype(int)\n",
    "skato_result['GENPOS'] = skato_result['GENPOS'].astype(int)"
   ]
  },
  {
   "cell_type": "code",
   "execution_count": 16,
   "id": "fde54b70-d583-4492-8d18-b8114112d5f9",
   "metadata": {
    "kernel": "Python3",
    "tags": []
   },
   "outputs": [],
   "source": [
    "skato_result = skato_result.sort_values(by=['CHROM', 'GENPOS'], ascending=[True, True])"
   ]
  },
  {
   "cell_type": "code",
   "execution_count": null,
   "id": "5b549b42-7906-4491-b721-34e40cf859d2",
   "metadata": {
    "editable": true,
    "kernel": "Python3",
    "slideshow": {
     "slide_type": ""
    },
    "tags": []
   },
   "outputs": [],
   "source": [
    "for allele, group in skato_result.groupby('ALLELE1'):\n",
    "    # Define the filename using the 'ALLELE1' name\n",
    "    filename = f'~/UKBiobank/RAP/results/autosomal/aggregate/RAP1/ARHI_skato_CADD_{allele}_rap1_output.csv'\n",
    "    \n",
    "    # Save the group to the CSV file\n",
    "    group.to_csv(filename, index=False, header=True)\n",
    "\n",
    "    print(f'Saved group with ALLELE1=\"{allele}\" to {filename}')\n"
   ]
  },
  {
   "cell_type": "code",
   "execution_count": 18,
   "id": "c96a5ce0-a98e-40a7-b8f8-b26bcd0c2d07",
   "metadata": {
    "kernel": "Python3",
    "tags": []
   },
   "outputs": [],
   "source": [
    "burden_result = merged_df_3.loc[(merged_df_3['TEST'] == 'ADD')  & ((merged_df_3['P_f3393'] <= 2.5e-06) | (merged_df_3['P_f2247'] <= 2.5e-06) | (merged_df_3['P_f2257'] <= 2.5e-06) | (merged_df_3['P_f2247_f2257'] <= 2.5e-06))]"
   ]
  },
  {
   "cell_type": "markdown",
   "id": "49a79bb4-0928-462a-8ebf-c3143574d456",
   "metadata": {},
   "source": [
    "## Look for those genes that are significant in SKAT-O but not in burden "
   ]
  },
  {
   "cell_type": "code",
   "execution_count": 26,
   "id": "6cfce6c2-c88e-496c-914b-39f7b5439931",
   "metadata": {},
   "outputs": [],
   "source": [
    "burden_pLoF=merged_df_3.loc[(merged_df_3['TEST'] == 'ADD')  & (merged_df_3['ID'] == 'SIX1.Mask1.0.005') | (merged_df_3['TEST'] == 'ADD')  & (merged_df_3['ID'] == 'TNRC6B.Mask1.0.005')]"
   ]
  },
  {
   "cell_type": "code",
   "execution_count": 28,
   "id": "6c950109-3a41-477a-bec2-265641296944",
   "metadata": {},
   "outputs": [],
   "source": [
    "filename = f'~/UKBiobank/RAP/results/autosomal/aggregate/RAP1/ARHI_burden_CADD_Mask1_0.005_rap1_output_siginSKATO.csv'\n",
    "# Save the group to the CSV file\n",
    "burden_pLoF.to_csv(filename, index=False, header=True)"
   ]
  },
  {
   "cell_type": "code",
   "execution_count": 29,
   "id": "f852335f-4183-4261-b411-8164a54bc7ce",
   "metadata": {},
   "outputs": [],
   "source": [
    "burden_mask2=merged_df_3.loc[(merged_df_3['TEST'] == 'ADD')  & (merged_df_3['ID'] == 'MYO7A.Mask2.0.005') | (merged_df_3['TEST'] == 'ADD')  & (merged_df_3['ID'] == 'TMPRSS3.Mask2.0.005') | (merged_df_3['TEST'] == 'ADD')  & (merged_df_3['ID'] == 'TXNDC17.Mask2.0.005')]"
   ]
  },
  {
   "cell_type": "code",
   "execution_count": 31,
   "id": "dd903215-af79-439a-9e63-e228bb1ed290",
   "metadata": {},
   "outputs": [],
   "source": [
    "filename = f'~/UKBiobank/RAP/results/autosomal/aggregate/RAP1/ARHI_burden_CADD_Mask2_0.005_rap1_output_siginSKATO.csv'\n",
    "# Save the group to the CSV file\n",
    "burden_mask2.to_csv(filename, index=False, header=True)"
   ]
  },
  {
   "cell_type": "code",
   "execution_count": null,
   "id": "16a85e06-a9e1-4903-aa86-2f1a58b98768",
   "metadata": {
    "kernel": "Python3",
    "tags": []
   },
   "outputs": [],
   "source": [
    "burden_result['CHROM'] = burden_result['CHROM'].astype(int)\n",
    "burden_result['GENPOS'] = burden_result['GENPOS'].astype(int)"
   ]
  },
  {
   "cell_type": "code",
   "execution_count": 20,
   "id": "e12c44d1-8e8c-40ef-be9c-7f01bb435a5e",
   "metadata": {
    "kernel": "Python3",
    "tags": []
   },
   "outputs": [],
   "source": [
    "burden_result = burden_result.sort_values(by=['CHROM', 'GENPOS'], ascending=[True, True])"
   ]
  },
  {
   "cell_type": "code",
   "execution_count": null,
   "id": "1a823425-8644-4f70-ad3f-e7803d783b43",
   "metadata": {
    "kernel": "Python3",
    "tags": []
   },
   "outputs": [],
   "source": [
    "for allele, group in burden_result.groupby('ALLELE1'):\n",
    "    # Define the filename using the 'ALLELE1' name\n",
    "    filename = f'/home/dmc2245/UKBiobank/RAP/results/autosomal/aggregate/RAP1/ARHI_burden_CADD_{allele}_rap1_output.csv'\n",
    "    \n",
    "    # Save the group to the CSV file\n",
    "    group.to_csv(filename, index=False, header=True)\n",
    "\n",
    "    print(f'Saved group with ALLELE1=\"{allele}\" to {filename}')"
   ]
  },
  {
   "cell_type": "markdown",
   "id": "d2799c69-5566-4bd0-8c4c-69543f0267bf",
   "metadata": {
    "kernel": "Python3"
   },
   "source": [
    "## Create tables for single-variant analysis summary statistics"
   ]
  },
  {
   "cell_type": "code",
   "execution_count": 4,
   "id": "78e69f6e-1133-4898-8155-a00068a98762",
   "metadata": {
    "kernel": "Python3"
   },
   "outputs": [],
   "source": [
    "import pandas as pd"
   ]
  },
  {
   "cell_type": "code",
   "execution_count": 62,
   "id": "3593c388-b1aa-4679-9798-1dde4985c1e8",
   "metadata": {
    "kernel": "Python3",
    "tags": []
   },
   "outputs": [],
   "source": [
    "# Read the four files\n",
    "df1 = pd.read_csv('~/UKBiobank/RAP/results/autosomal/univariate/Haid_070824/ref_last/f3393.regenie', comment='#', sep=\" \", dtype=\"str\")\n",
    "df2 = pd.read_csv('~/UKBiobank/RAP/results/autosomal/univariate/Hdiff_070824/ref_last/f2247.regenie',comment='#', sep=\" \",dtype=\"str\")\n",
    "df3 = pd.read_csv('~/UKBiobank/RAP/results/autosomal/univariate/Hnoise_070824/ref_last/f2257.regenie',comment='#', sep=\" \",dtype=\"str\")\n",
    "df4 = pd.read_csv('~/UKBiobank/RAP/results/autosomal/univariate/Hboth_070824/ref_last/f2247_f2257.regenie',comment='#', sep=\" \",dtype=\"str\")"
   ]
  },
  {
   "cell_type": "code",
   "execution_count": 86,
   "id": "a9bc1152-13a6-452f-9ffe-58aa22408d2d",
   "metadata": {
    "editable": true,
    "kernel": "Python3",
    "slideshow": {
     "slide_type": ""
    },
    "tags": []
   },
   "outputs": [],
   "source": [
    "# Select required columns for each phenotype\n",
    "df1_selected = df1[['CHROM', 'GENPOS', 'ID', 'ALLELE0','ALLELE1', 'A1FREQ', 'BETA', 'SE', 'LOG10P']]\n",
    "df2_selected = df2[['CHROM', 'GENPOS', 'ID', 'ALLELE0', 'ALLELE1', 'A1FREQ', 'BETA', 'SE', 'LOG10P']]\n",
    "df3_selected = df3[['CHROM', 'GENPOS', 'ID', 'ALLELE0','ALLELE1', 'A1FREQ', 'BETA', 'SE', 'LOG10P']]\n",
    "df4_selected = df4[['CHROM', 'GENPOS', 'ID', 'ALLELE0','ALLELE1', 'A1FREQ', 'BETA', 'SE', 'LOG10P']]"
   ]
  },
  {
   "cell_type": "code",
   "execution_count": 87,
   "id": "8e8e5b4d-7ff3-48ae-99e8-7bbc850539e4",
   "metadata": {
    "kernel": "Python3",
    "tags": []
   },
   "outputs": [],
   "source": [
    "# Rename columns to include the phenotype name\n",
    "df1_selected.columns = ['CHROM', 'GENPOS', 'ID', 'ALLELE0','ALLELE1', 'A1FREQ_f3393', 'BETA_f3393', 'SE_f3393', 'LOG10P_f3393']\n",
    "df2_selected.columns = ['CHROM', 'GENPOS', 'ID', 'ALLELE0','ALLELE1', 'A1FREQ_f2247', 'BETA_f2247', 'SE_f2247', 'LOG10P_f2247']\n",
    "df3_selected.columns = ['CHROM', 'GENPOS', 'ID', 'ALLELE0','ALLELE1', 'A1FREQ_f2257', 'BETA_f2257', 'SE_f2257', 'LOG10P_f2257']\n",
    "df4_selected.columns = ['CHROM', 'GENPOS', 'ID', 'ALLELE0','ALLELE1', 'A1FREQ_f2247_f2257', 'BETA_f2247_f2257', 'SE_f2247_f2257', 'LOG10P_f2247_f2257']"
   ]
  },
  {
   "cell_type": "code",
   "execution_count": 88,
   "id": "9ab609b7-26cb-43d8-8ff2-306cdb58a5cc",
   "metadata": {
    "kernel": "Python3",
    "tags": []
   },
   "outputs": [],
   "source": [
    "# Merge dataframes on common columns (CHROM and GENPOS)\n",
    "merged_df = pd.merge(df1_selected, df2_selected, on=['CHROM', 'GENPOS', 'ID', 'ALLELE0', 'ALLELE1'], how='outer')\n",
    "merged_df_1 = pd.merge(merged_df, df3_selected, on=['CHROM', 'GENPOS', 'ID', 'ALLELE0','ALLELE1'], how='outer')\n",
    "merged_df_2 = pd.merge(merged_df_1, df4_selected, on=['CHROM', 'GENPOS', 'ID','ALLELE0', 'ALLELE1'], how='outer')"
   ]
  },
  {
   "cell_type": "code",
   "execution_count": 90,
   "id": "2143b253-313b-4551-b64c-c91b75ff8bb0",
   "metadata": {
    "kernel": "Python3"
   },
   "outputs": [],
   "source": [
    "mask = merged_df_2['CHROM'].str.contains('CHROM')\n",
    "\n",
    "# Drop those rows\n",
    "merged_df_3= merged_df_2[~mask]"
   ]
  },
  {
   "cell_type": "code",
   "execution_count": null,
   "id": "886e9599-301d-47d2-9de5-24e209cb943c",
   "metadata": {
    "kernel": "Python3"
   },
   "outputs": [],
   "source": [
    "merged_df_3[['LOG10P_f3393', 'LOG10P_f2247', 'LOG10P_f2257', 'LOG10P_f2247_f2257']] = merged_df_3[['LOG10P_f3393', 'LOG10P_f2247', 'LOG10P_f2257', 'LOG10P_f2247_f2257']].apply(pd.to_numeric, errors='coerce')"
   ]
  },
  {
   "cell_type": "code",
   "execution_count": null,
   "id": "87aae01b-93bc-4efc-92c9-d481772e9747",
   "metadata": {
    "kernel": "Python3"
   },
   "outputs": [],
   "source": [
    "merged_df_3[['P_f3393', 'P_f2247', 'P_f2257', 'P_f2247_f2257']] = 10 ** -merged_df_3[['LOG10P_f3393', 'LOG10P_f2247', 'LOG10P_f2257', 'LOG10P_f2247_f2257']]"
   ]
  },
  {
   "cell_type": "code",
   "execution_count": null,
   "id": "40bf5845-4235-4174-a9bb-532450f142cb",
   "metadata": {
    "kernel": "Python3"
   },
   "outputs": [],
   "source": [
    "merged_df_3[['P_f3393', 'P_f2247', 'P_f2257', 'P_f2247_f2257']] = merged_df_3[['P_f3393', 'P_f2247', 'P_f2257', 'P_f2247_f2257']].apply(pd.to_numeric, errors='coerce')"
   ]
  },
  {
   "cell_type": "code",
   "execution_count": 95,
   "id": "5177aaec-ef1b-49ca-9b99-ac67054c76e6",
   "metadata": {
    "kernel": "Python3"
   },
   "outputs": [],
   "source": [
    "univar_result = merged_df_3.loc[ ((merged_df_3['P_f3393'] <= 5e-08) | (merged_df_3['P_f2247'] <= 5e-08) | (merged_df_3['P_f2257'] <=  5e-08) | (merged_df_3['P_f2247_f2257'] <=  5e-08))]"
   ]
  },
  {
   "cell_type": "code",
   "execution_count": 102,
   "id": "4b5c15eb-613e-43ea-acf1-92df179282cd",
   "metadata": {
    "kernel": "Python3"
   },
   "outputs": [],
   "source": [
    "df1_anno = pd.read_csv('~/UKBiobank/RAP/results/autosomal/univariate/Haid_070824/ref_last/Haid_pval5e-08_rap1.hg38.annotated.csv', comment='#', sep=\",\", dtype=\"str\")\n",
    "df2_anno = pd.read_csv('~/UKBiobank/RAP/results/autosomal/univariate/Hdiff_070824/ref_last/Hdiff_pval5e-08_rap1.hg38.annotated.csv',comment='#', sep=\",\",dtype=\"str\")\n",
    "df3_anno = pd.read_csv('~/UKBiobank/RAP/results/autosomal/univariate/Hnoise_070824/ref_last/Hnoise_pval5e-08_rap1.hg38.annotated.csv',comment='#', sep=\",\",dtype=\"str\")\n",
    "df4_anno = pd.read_csv('~/UKBiobank/RAP/results/autosomal/univariate/Hboth_070824/ref_last/Hboth_pval5e-08_rap1.hg38.annotated.csv',comment='#', sep=\",\",dtype=\"str\")"
   ]
  },
  {
   "cell_type": "code",
   "execution_count": 126,
   "id": "c931af57-ead8-4aec-80e0-c282736ee01a",
   "metadata": {
    "kernel": "Python3"
   },
   "outputs": [],
   "source": [
    "# Rename columns to include the phenotype name\n",
    "df1_anno.columns = ['ID','CHROM', 'GENPOS',  'ALLELE0','ALLELE1', 'A1FREQ_f3393', 'BETA_f3393', 'SE_f3393', 'P_f3393', 'Func.refGene', 'Gene.refGene', 'AAChange.refGene', 'ExonicFunc.refGene', 'gwasCatalog', 'CADD_phred,gnomad312_AF_nfe', 'AF_nfe', 'avsnp150','CADD_phred','CLNSIG','CLNDN','medelian_ARHL_gene']\n",
    "df2_anno.columns = ['ID','CHROM', 'GENPOS', 'ALLELE0','ALLELE1', 'A1FREQ_f2247', 'BETA_f2247', 'SE_f2247', 'P_f2247','Func.refGene', 'Gene.refGene', 'AAChange.refGene', 'ExonicFunc.refGene', 'gwasCatalog', 'CADD_phred,gnomad312_AF_nfe', 'AF_nfe', 'avsnp150','CADD_phred','CLNSIG','CLNDN','medelian_ARHL_gene']\n",
    "df3_anno.columns = ['ID','CHROM', 'GENPOS', 'ALLELE0','ALLELE1', 'A1FREQ_f2257', 'BETA_f2257', 'SE_f2257', 'P_f2257','Func.refGene', 'Gene.refGene', 'AAChange.refGene', 'ExonicFunc.refGene', 'gwasCatalog', 'CADD_phred,gnomad312_AF_nfe', 'AF_nfe', 'avsnp150','CADD_phred','CLNSIG','CLNDN','medelian_ARHL_gene']\n",
    "df4_anno.columns = ['ID','CHROM', 'GENPOS', 'ALLELE0','ALLELE1', 'A1FREQ_f2247_f2257', 'BETA_f2247_f2257', 'SE_f2247_f2257','P_f2247_f2257','Func.refGene', 'Gene.refGene', 'AAChange.refGene', 'ExonicFunc.refGene', 'gwasCatalog', 'CADD_phred,gnomad312_AF_nfe', 'AF_nfe', 'avsnp150','CADD_phred','CLNSIG','CLNDN','medelian_ARHL_gene']"
   ]
  },
  {
   "cell_type": "code",
   "execution_count": 127,
   "id": "29f105ff-655e-436c-acb8-1bb2e95921a0",
   "metadata": {
    "kernel": "Python3"
   },
   "outputs": [],
   "source": [
    "merged_anno = pd.merge(df1_anno, df2_anno, on=['ID','CHROM', 'GENPOS',  'ALLELE0', 'ALLELE1','Func.refGene', 'Gene.refGene', 'AAChange.refGene', 'ExonicFunc.refGene', 'gwasCatalog', 'CADD_phred','gnomad312_AF_nfe', 'AF_nfe', 'avsnp150','CLNSIG','CLNDN','medelian_ARHL_gene'], how='outer')\n",
    "merged_anno_1 = pd.merge(merged_anno, df3_anno, on=['ID','CHROM', 'GENPOS', 'ALLELE0','ALLELE1','Func.refGene', 'Gene.refGene', 'AAChange.refGene', 'ExonicFunc.refGene', 'gwasCatalog', 'CADD_phred','gnomad312_AF_nfe', 'AF_nfe', 'avsnp150','CLNSIG','CLNDN','medelian_ARHL_gene'], how='outer')\n",
    "merged_anno_2 = pd.merge(merged_anno_1, df4_anno, on=['ID','CHROM', 'GENPOS','ALLELE0', 'ALLELE1','Func.refGene', 'Gene.refGene', 'AAChange.refGene', 'ExonicFunc.refGene', 'gwasCatalog', 'CADD_phred','gnomad312_AF_nfe', 'AF_nfe', 'avsnp150','CLNSIG','CLNDN','medelian_ARHL_gene'], how='outer')"
   ]
  },
  {
   "cell_type": "code",
   "execution_count": 129,
   "id": "f97383e0-b851-4de4-baf9-9e7293130633",
   "metadata": {
    "kernel": "Python3"
   },
   "outputs": [],
   "source": [
    "anno_final=merged_anno_2[['ID','CHROM', 'GENPOS' ,'ALLELE0', 'ALLELE1','Func.refGene', 'Gene.refGene', 'AAChange.refGene', 'ExonicFunc.refGene', 'gwasCatalog', 'CADD_phred,gnomad312_AF_nfe', 'AF_nfe', 'avsnp150','CADD_phred','CLNSIG','CLNDN','medelian_ARHL_gene']]"
   ]
  },
  {
   "cell_type": "code",
   "execution_count": 131,
   "id": "6d6a5686-165d-4bf4-8eb0-a548d8a699a7",
   "metadata": {
    "kernel": "Python3"
   },
   "outputs": [],
   "source": [
    "final_df = pd.merge(univar_result, anno_final, on=['ID', 'CHROM', 'GENPOS', 'ALLELE0', 'ALLELE1'])"
   ]
  },
  {
   "cell_type": "code",
   "execution_count": 134,
   "id": "bb4949c7-5848-4082-96e1-06b771a284d1",
   "metadata": {
    "kernel": "Python3"
   },
   "outputs": [],
   "source": [
    "final_df['CHROM'] = final_df['CHROM'].astype(int)\n",
    "final_df['GENPOS'] = final_df['GENPOS'].astype(int)"
   ]
  },
  {
   "cell_type": "code",
   "execution_count": 137,
   "id": "e56bdc93-0b06-47f2-9e63-f4fb6ad5134d",
   "metadata": {
    "kernel": "Python3"
   },
   "outputs": [],
   "source": [
    "final_df = final_df.sort_values(by=['CHROM', 'GENPOS'], ascending=[True, True])"
   ]
  },
  {
   "cell_type": "code",
   "execution_count": 139,
   "id": "176916ea-a80f-46c6-9f5f-4d98347d0ead",
   "metadata": {
    "kernel": "Python3"
   },
   "outputs": [],
   "source": [
    "filename = f'~/UKBiobank/RAP/results/autosomal/univariate/071224_ARHI_univariate_anno_rap1_output.csv'\n",
    "final_df.to_csv(filename, index=False, header=True)"
   ]
  }
 ],
 "metadata": {
  "kernelspec": {
   "display_name": "SoS",
   "language": "sos",
   "name": "sos"
  },
  "language_info": {
   "codemirror_mode": "sos",
   "file_extension": ".sos",
   "mimetype": "text/x-sos",
   "name": "sos",
   "nbconvert_exporter": "sos_notebook.converter.SoS_Exporter",
   "pygments_lexer": "sos"
  },
  "sos": {
   "kernels": [
    [
     "SoS",
     "sos",
     "",
     ""
    ]
   ],
   "version": ""
  }
 },
 "nbformat": 4,
 "nbformat_minor": 5
}
