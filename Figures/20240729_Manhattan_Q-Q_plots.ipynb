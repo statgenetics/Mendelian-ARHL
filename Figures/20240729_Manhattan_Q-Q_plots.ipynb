{
 "cells": [
  {
   "cell_type": "markdown",
   "id": "4a5af7da-fc87-45c5-b05d-7eb8e1db19cc",
   "metadata": {},
   "source": [
    "# Mendelian non-syndromic and syndromic hearing loss genes contribute to presbycusis\n",
    "\n",
    "## Description:\n",
    "\n",
    "This notebook contains the code to generate all the manhattan and Q-Q plots shown within the manuscript and supplementary figures."
   ]
  },
  {
   "cell_type": "markdown",
   "id": "757a9d50-6412-4d67-9709-d46084280afc",
   "metadata": {},
   "source": [
    "# Import packages and load data"
   ]
  },
  {
   "cell_type": "code",
   "execution_count": null,
   "id": "7b6311ff-d81e-4c46-bd7e-0e995c80afbd",
   "metadata": {
    "tags": []
   },
   "outputs": [],
   "source": [
    "rm(list=ls())\n",
    "library(\"CMplot\")\n",
    "#library(fastman)\n",
    "library(qqman)\n",
    "source(\"~/basic_packages.R\")\n",
    "source(\"~/script.R\")"
   ]
  },
  {
   "cell_type": "markdown",
   "id": "03afbd25-bdb5-42bd-82c0-ce1efd6d2856",
   "metadata": {
    "tags": []
   },
   "source": [
    "# Gene level"
   ]
  },
  {
   "cell_type": "markdown",
   "id": "5e5dc99f-0e88-4f2c-ab03-ac39a8e5d821",
   "metadata": {},
   "source": [
    "## Import aggregate results"
   ]
  },
  {
   "cell_type": "code",
   "execution_count": null,
   "id": "37a45b48-4984-434b-a5f6-62c4253a32fd",
   "metadata": {
    "tags": []
   },
   "outputs": [],
   "source": [
    "# Process Haid\n",
    "Haid_gene <- process_trait_data(\"~/UKBiobank/RAP/results/autosomal/aggregate/RAP1/Haid_CADD_skato_0.005/f3393.regenie\", \"Haid\")\n",
    "Haid_final_df_pLoF_skato <- Haid_gene$final_df_pLoF_skato\n",
    "Haid_final_df_pLoF_missense_splicing_skato <- Haid_gene$final_df_pLoF_missense_splicing_skato\n",
    "Haid_final_df_pLoF_burden <- Haid_gene$final_df_pLoF_burden\n",
    "Haid_final_df_pLoF_missense_splicing_burden<- Haid_gene$final_df_pLoF_missense_splicing_burden"
   ]
  },
  {
   "cell_type": "code",
   "execution_count": null,
   "id": "ba911c09-145c-405d-8ab4-e77c28ec0b33",
   "metadata": {
    "tags": []
   },
   "outputs": [],
   "source": [
    "# Process Hboth\n",
    "Hboth_gene <- process_trait_data(\"~/UKBiobank/RAP/results/autosomal/aggregate/RAP1/Hboth_CADD_skato_0.005/f2247_f2257.regenie\", \"Hboth\")\n",
    "Hboth_final_df_pLoF_skato <- Hboth_gene$final_df_pLoF_skato\n",
    "Hboth_final_df_pLoF_missense_splicing_skato <- Hboth_gene$final_df_pLoF_missense_splicing_skato\n",
    "Hboth_final_df_pLoF_burden <- Hboth_gene$final_df_pLoF_burden\n",
    "Hboth_final_df_pLoF_missense_splicing_burden <- Hboth_gene$final_df_pLoF_missense_splicing_burden"
   ]
  },
  {
   "cell_type": "code",
   "execution_count": null,
   "id": "9f66dde2-1f93-4cee-91f8-2f7e5e14fd3b",
   "metadata": {
    "tags": []
   },
   "outputs": [],
   "source": [
    "# Process Hdiff\n",
    "Hdiff_gene <- process_trait_data(\"~/UKBiobank/RAP/results/autosomal/aggregate/RAP1/Hdiff_CADD_skato_0.005/f2247.regenie\", \"Hdiff\")\n",
    "Hdiff_final_df_pLoF_skato <- Hdiff_gene$final_df_pLoF_skato\n",
    "Hdiff_final_df_pLoF_missense_splicing_skato <- Hdiff_gene$final_df_pLoF_missense_splicing_skato\n",
    "Hdiff_final_df_pLoF_burden <- Hdiff_gene$final_df_pLoF_burden\n",
    "Hdiff_final_df_pLoF_missense_splicing_burden <- Hdiff_gene$final_df_pLoF_missense_splicing_burden"
   ]
  },
  {
   "cell_type": "code",
   "execution_count": null,
   "id": "e6247ace-b585-49a6-b8e5-06efdde9dbce",
   "metadata": {
    "tags": []
   },
   "outputs": [],
   "source": [
    "# Process Hnoise\n",
    "Hnoise_gene <- process_trait_data(\"~/UKBiobank/RAP/results/autosomal/aggregate/RAP1/Hnoise_CADD_skato_0.005/f2257.regenie\", \"Hnoise\")\n",
    "Hnoise_final_df_pLoF_skato <- Hnoise_gene$final_df_pLoF_skato\n",
    "Hnoise_final_df_pLoF_missense_splicing_skato <- Hnoise_gene$final_df_pLoF_missense_splicing_skato\n",
    "Hnoise_final_df_pLoF_burden <- Hnoise_gene$final_df_pLoF_burden\n",
    "Hnoise_final_df_pLoF_missense_splicing_burden <- Hnoise_gene$final_df_pLoF_missense_splicing_burden"
   ]
  },
  {
   "cell_type": "markdown",
   "id": "3bf3723d-6047-44c8-9f03-8be25f2e33e0",
   "metadata": {},
   "source": [
    "## Manhattan plots for genes"
   ]
  },
  {
   "cell_type": "markdown",
   "id": "2f857cbb-b126-4961-9835-89617afe5aad",
   "metadata": {
    "tags": []
   },
   "source": [
    "### Haid"
   ]
  },
  {
   "cell_type": "code",
   "execution_count": null,
   "id": "76160a91-de19-49cc-9a46-554f469df640",
   "metadata": {
    "tags": []
   },
   "outputs": [],
   "source": [
    "# pLoF\n",
    "generate_manhattan_plot_gene(Haid_final_df_pLoF_skato, \"Haid_pLoF_manhattan_plot_gene_skato\", display = FALSE, format = \"pdf\")\n",
    "generate_manhattan_plot_gene(Haid_final_df_pLoF_skato, \"Haid_pLoF_manhattan_plot_gene_skato\", display = FALSE, format = \"png\")\n",
    "generate_manhattan_plot_gene(Haid_final_df_pLoF_burden, \"Haid_pLoF_manhattan_plot_gene_burden\", display = FALSE, format = \"pdf\")\n",
    "generate_manhattan_plot_gene(Haid_final_df_pLoF_burden, \"Haid_pLoF_manhattan_plot_gene_burden\", display = FALSE, format = \"png\")"
   ]
  },
  {
   "cell_type": "code",
   "execution_count": null,
   "id": "454236b3-d4b6-4208-baea-0aff28b76e57",
   "metadata": {
    "tags": []
   },
   "outputs": [],
   "source": [
    "# pLoF+missense+splicing\n",
    "generate_manhattan_plot_gene(Haid_final_df_pLoF_missense_splicing_skato, \"Haid_pLoF_missense_splicing_manhattan_plot_gene_skato\", display = FALSE, format = \"pdf\")\n",
    "generate_manhattan_plot_gene(Haid_final_df_pLoF_missense_splicing_skato, \"Haid_pLoF_missense_splicing_manhattan_plot_gene_skato\", display = FALSE, format = \"png\")\n",
    "generate_manhattan_plot_gene(Haid_final_df_pLoF_missense_splicing_burden, \"Haid_pLoF_missense_splicing_manhattan_plot_gene_burden\", display = FALSE, format = \"pdf\")\n",
    "generate_manhattan_plot_gene(Haid_final_df_pLoF_missense_splicing_burden, \"Haid_pLoF_missense_splicing_manhattan_plot_gene_burden\", display = FALSE, format = \"png\")"
   ]
  },
  {
   "cell_type": "markdown",
   "id": "048db81f-5671-4583-92ff-4f5e77bc2a71",
   "metadata": {},
   "source": [
    "### Hboth"
   ]
  },
  {
   "cell_type": "code",
   "execution_count": null,
   "id": "d5d6d16d-5558-44cb-8b54-d89bb6bea24c",
   "metadata": {},
   "outputs": [],
   "source": [
    "# pLoF\n",
    "generate_manhattan_plot_gene(Hboth_final_df_pLoF_skato, \"Hboth_pLoF_manhattan_plot_gene_skato\", display = FALSE, format = \"pdf\")\n",
    "generate_manhattan_plot_gene(Hboth_final_df_pLoF_skato, \"Hboth_pLoF_manhattan_plot_gene_skato\", display = FALSE, format = \"png\")\n",
    "generate_manhattan_plot_gene(Hboth_final_df_pLoF_burden, \"Hboth_pLoF_manhattan_plot_gene_burden\", display = FALSE, format = \"pdf\")\n",
    "generate_manhattan_plot_gene(Hboth_final_df_pLoF_burden, \"Hboth_pLoF_manhattan_plot_gene_burden\", display = FALSE, format = \"png\")"
   ]
  },
  {
   "cell_type": "code",
   "execution_count": null,
   "id": "1cf1e12c-06a2-4953-ab23-c1bf59b75064",
   "metadata": {
    "tags": []
   },
   "outputs": [],
   "source": [
    "# pLoF+missense+splicing\n",
    "generate_manhattan_plot_gene(Hboth_final_df_pLoF_missense_splicing_skato, \"Hboth_pLoF_missense_splicing_manhattan_plot_gene_skato\", display = FALSE, format = \"pdf\")\n",
    "generate_manhattan_plot_gene(Hboth_final_df_pLoF_missense_splicing_skato, \"Hboth_pLoF_missense_splicing_manhattan_plot_gene_skato\", display = FALSE, format = \"png\")\n",
    "generate_manhattan_plot_gene(Hboth_final_df_pLoF_missense_splicing_burden, \"Hboth_pLoF_missense_splicing_manhattan_plot_gene_burden\", display = FALSE, format = \"pdf\")\n",
    "generate_manhattan_plot_gene(Hboth_final_df_pLoF_missense_splicing_burden, \"Hboth_pLoF_missense_splicing_manhattan_plot_gene_burden\", display = FALSE, format = \"png\")"
   ]
  },
  {
   "cell_type": "markdown",
   "id": "add2f956-3532-4ea1-8c3c-8104eed908ea",
   "metadata": {},
   "source": [
    "### Hdiff"
   ]
  },
  {
   "cell_type": "code",
   "execution_count": null,
   "id": "8e56066c-a1b6-4e5d-9009-7f6c509e5da5",
   "metadata": {},
   "outputs": [],
   "source": [
    "# generate Manhattan plot for genes\n",
    "generate_manhattan_plot_gene(Hdiff_final_df_pLoF_skato, \"Hdiff_pLoF_manhattan_plot_gene_skato\", display = FALSE, format = \"pdf\")\n",
    "generate_manhattan_plot_gene(Hdiff_final_df_pLoF_skato, \"Hdiff_pLoF_manhattan_plot_gene_skato\", display = FALSE, format = \"png\")\n",
    "generate_manhattan_plot_gene(Hdiff_final_df_pLoF_burden, \"Hdiff_pLoF_manhattan_plot_gene_burden\", display = FALSE, format = \"pdf\")\n",
    "generate_manhattan_plot_gene(Hdiff_final_df_pLoF_burden, \"Hdiff_pLoF_manhattan_plot_gene_burden\", display = FALSE, format = \"png\")"
   ]
  },
  {
   "cell_type": "code",
   "execution_count": null,
   "id": "9a17cd2c-b660-4fe3-8ca1-3df97e1e2867",
   "metadata": {
    "tags": []
   },
   "outputs": [],
   "source": [
    "# generate Manhattan plot for genes\n",
    "generate_manhattan_plot_gene(Hdiff_final_df_pLoF_missense_splicing_skato, \"Hdiff_pLoF_missense_splicing_manhattan_plot_gene_skato\", display = FALSE, format = \"pdf\")\n",
    "generate_manhattan_plot_gene(Hdiff_final_df_pLoF_missense_splicing_skato, \"Hdiff_pLoF_missense_splicing_manhattan_plot_gene_skato\", display = FALSE, format = \"png\")\n",
    "generate_manhattan_plot_gene(Hdiff_final_df_pLoF_missense_splicing_burden, \"Hdiff_pLoF_missense_splicing_manhattan_plot_gene_burden\", display = FALSE, format = \"pdf\")\n",
    "generate_manhattan_plot_gene(Hdiff_final_df_pLoF_missense_splicing_burden, \"Hdiff_pLoF_missense_splicing_manhattan_plot_gene_burden\", display = FALSE, format = \"png\")"
   ]
  },
  {
   "cell_type": "markdown",
   "id": "3da34f90-802d-45ef-a250-39614e4a5fff",
   "metadata": {},
   "source": [
    "### Hnoise"
   ]
  },
  {
   "cell_type": "code",
   "execution_count": null,
   "id": "ed60c7a2-c363-491e-a917-bdeb7b302feb",
   "metadata": {
    "tags": []
   },
   "outputs": [],
   "source": [
    "# generate Manhattan plot for genes\n",
    "generate_manhattan_plot_gene(Hnoise_final_df_pLoF_skato, \"Hnoise_pLoF_manhattan_plot_gene_skato\", display = FALSE, format = \"pdf\")\n",
    "generate_manhattan_plot_gene(Hnoise_final_df_pLoF_skato, \"Hnoise_pLoF_manhattan_plot_gene_skato\", display = FALSE, format = \"png\")\n",
    "generate_manhattan_plot_gene(Hnoise_final_df_pLoF_burden, \"Hnoise_pLoF_manhattan_plot_gene_burden\", display = FALSE, format = \"pdf\")\n",
    "generate_manhattan_plot_gene(Hnoise_final_df_pLoF_burden, \"Hnoise_pLoF_manhattan_plot_gene_burden\", display = FALSE, format = \"png\")"
   ]
  },
  {
   "cell_type": "code",
   "execution_count": null,
   "id": "34fec8f3-d0e6-43cb-9097-b1a50a299647",
   "metadata": {
    "tags": []
   },
   "outputs": [],
   "source": [
    "# generate Manhattan plot for genes\n",
    "generate_manhattan_plot_gene(Hnoise_final_df_pLoF_missense_splicing_skato, \"Hnoise_pLoF_missense_splicing_manhattan_plot_gene_skato\", display = FALSE, format = \"pdf\")\n",
    "generate_manhattan_plot_gene(Hnoise_final_df_pLoF_missense_splicing_skato, \"Hnoise_pLoF_missense_splicing_manhattan_plot_gene_skato\", display = FALSE, format = \"png\")\n",
    "generate_manhattan_plot_gene(Hnoise_final_df_pLoF_missense_splicing_burden, \"Hnoise_pLoF_missense_splicing_manhattan_plot_gene_burden\", display = FALSE, format = \"pdf\")\n",
    "generate_manhattan_plot_gene(Hnoise_final_df_pLoF_missense_splicing_burden, \"Hnoise_pLoF_missense_splicing_manhattan_plot_gene_burden\", display = FALSE, format = \"png\")"
   ]
  },
  {
   "cell_type": "markdown",
   "id": "c26afa02-571f-43b4-95da-507f2d485a65",
   "metadata": {},
   "source": [
    "## QQ plots for genes"
   ]
  },
  {
   "cell_type": "markdown",
   "id": "8dad05d1-6d75-4b6b-acb6-13d49a1fa9d2",
   "metadata": {
    "tags": []
   },
   "source": [
    "### Haid"
   ]
  },
  {
   "cell_type": "code",
   "execution_count": null,
   "id": "d5c0f3a9-0e97-47a9-b5ef-27f914149eca",
   "metadata": {
    "tags": []
   },
   "outputs": [],
   "source": [
    "# generate qq plot for genes\n",
    "generate_qq_plot_gene(Haid_final_df_pLoF_skato,  \"Haid_pLoF_qq_plot_gene_skato\", display = FALSE, format = \"pdf\")\n",
    "generate_qq_plot_gene(Haid_final_df_pLoF_skato,  \"Haid_pLoF_qq_plot_gene_skato\", display = FALSE, format = \"png\")\n",
    "generate_qq_plot_gene(Haid_final_df_pLoF_burden,  \"Haid_pLoF_qq_plot_gene_burden\", display = FALSE, format = \"pdf\")\n",
    "generate_qq_plot_gene(Haid_final_df_pLoF_burden,  \"Haid_pLoF_qq_plot_gene_burden\", display = FALSE, format = \"png\")\n",
    "median(qchisq(Haid_final_df_pLoF_skato$Haid_pLoF, df=1, lower.tail=FALSE), na.rm=TRUE) / qchisq(0.5, 1)\n",
    "median(qchisq(Haid_final_df_pLoF_burden$Haid_pLoF, df=1, lower.tail=FALSE), na.rm=TRUE) / qchisq(0.5, 1)"
   ]
  },
  {
   "cell_type": "code",
   "execution_count": null,
   "id": "065abfdd-a13a-4a40-a792-67083bb73fcc",
   "metadata": {
    "tags": []
   },
   "outputs": [],
   "source": [
    "# generate qq plot for genes\n",
    "generate_qq_plot_gene(Haid_final_df_pLoF_missense_splicing_skato,  \"Haid_pLoF_missense_splice_qq_plot_gene_skato\", display = FALSE, format = \"pdf\")\n",
    "generate_qq_plot_gene(Haid_final_df_pLoF_missense_splicing_skato,  \"Haid_pLoF_missense_splice_qq_plot_gene_skato\", display = FALSE, format = \"png\")\n",
    "generate_qq_plot_gene(Haid_final_df_pLoF_missense_splicing_burden,  \"Haid_pLoF_missense_splice_qq_plot_gene_burden\", display = FALSE, format = \"pdf\")\n",
    "generate_qq_plot_gene(Haid_final_df_pLoF_missense_splicing_burden,  \"Haid_pLoF_missense_splice_qq_plot_gene_burden\", display = FALSE, format = \"png\")\n",
    "median(qchisq(Haid_final_df_pLoF_missense_splicing_skato$Haid_pLoF_missense_splice, df=1, lower.tail=FALSE), na.rm=TRUE) / qchisq(0.5, 1)\n",
    "median(qchisq(Haid_final_df_pLoF_missense_splicing_burden$Haid_pLoF_missense_splice, df=1, lower.tail=FALSE), na.rm=TRUE) / qchisq(0.5, 1)"
   ]
  },
  {
   "cell_type": "markdown",
   "id": "39ff948d-8b29-43a9-9dca-c250ad0b88be",
   "metadata": {},
   "source": [
    "### Hboth"
   ]
  },
  {
   "cell_type": "code",
   "execution_count": null,
   "id": "72e51c3e-eb62-4c3f-9321-ea968cd72e2f",
   "metadata": {
    "tags": []
   },
   "outputs": [],
   "source": [
    "# generate qq plot for genes\n",
    "generate_qq_plot_gene(Hboth_final_df_pLoF_skato,  \"Hboth_pLoF_qq_plot_gene_skato\", display = FALSE, format = \"pdf\")\n",
    "generate_qq_plot_gene(Hboth_final_df_pLoF_skato,  \"Hboth_pLoF_qq_plot_gene_skato\", display = FALSE, format = \"png\")\n",
    "generate_qq_plot_gene(Hboth_final_df_pLoF_burden,  \"Hboth_pLoF_qq_plot_gene_burden\", display = FALSE, format = \"pdf\")\n",
    "generate_qq_plot_gene(Hboth_final_df_pLoF_burden,  \"Hboth_pLoF_qq_plot_gene_burden\", display = FALSE, format = \"png\")\n",
    "median(qchisq(Hboth_final_df_pLoF_skato$Hboth_pLoF, df=1, lower.tail=FALSE), na.rm=TRUE) / qchisq(0.5, 1)\n",
    "median(qchisq(Hboth_final_df_pLoF_burden$Hboth_pLoF, df=1, lower.tail=FALSE), na.rm=TRUE) / qchisq(0.5, 1)\n"
   ]
  },
  {
   "cell_type": "code",
   "execution_count": null,
   "id": "78fefc78-8055-4e26-99bf-ce7ee12c13ff",
   "metadata": {
    "tags": []
   },
   "outputs": [],
   "source": [
    "# generate qq plot for genes\n",
    "generate_qq_plot_gene(Hboth_final_df_pLoF_missense_splicing_skato,  \"Hboth_pLoF_missense_splice_qq_plot_gene_skato\", display = FALSE, format = \"pdf\")\n",
    "generate_qq_plot_gene(Hboth_final_df_pLoF_missense_splicing_skato,  \"Hboth_pLoF_missense_splice_qq_plot_gene_skato\", display = FALSE, format = \"png\")\n",
    "generate_qq_plot_gene(Hboth_final_df_pLoF_missense_splicing_burden,  \"Hboth_pLoF_missense_splice_qq_plot_gene_burden\", display = FALSE, format = \"pdf\")\n",
    "generate_qq_plot_gene(Hboth_final_df_pLoF_missense_splicing_burden,  \"Hboth_pLoF_missense_splice_qq_plot_gene_burden\", display = FALSE, format = \"png\")\n",
    "median(qchisq(Hboth_final_df_pLoF_missense_splicing_skato$Hboth_pLoF_missense_splice, df=1, lower.tail=FALSE), na.rm=TRUE) / qchisq(0.5, 1)\n",
    "median(qchisq(Hboth_final_df_pLoF_missense_splicing_burden$Hboth_pLoF_missense_splice, df=1, lower.tail=FALSE), na.rm=TRUE) / qchisq(0.5, 1)"
   ]
  },
  {
   "cell_type": "markdown",
   "id": "e5c36d4c-a737-4a0a-a75b-b874a2ccb338",
   "metadata": {},
   "source": [
    "### Hdiff"
   ]
  },
  {
   "cell_type": "code",
   "execution_count": null,
   "id": "90e1f985-5b4e-4621-8116-60e12d6b590b",
   "metadata": {
    "tags": []
   },
   "outputs": [],
   "source": [
    "# generate qq plot for genes\n",
    "generate_qq_plot_gene(Hdiff_final_df_pLoF_skato,  \"Hdiff_pLoF_qq_plot_gene_skato\", display = FALSE, format = \"pdf\")\n",
    "generate_qq_plot_gene(Hdiff_final_df_pLoF_skato,  \"Hdiff_pLoF_qq_plot_gene_skato\", display = FALSE, format = \"png\")\n",
    "generate_qq_plot_gene(Hdiff_final_df_pLoF_burden,  \"Hdiff_pLoF_qq_plot_gene_burden\", display = FALSE, format = \"pdf\")\n",
    "generate_qq_plot_gene(Hdiff_final_df_pLoF_burden,  \"Hdiff_pLoF_qq_plot_gene_burden\", display = FALSE, format = \"png\")\n",
    "median(qchisq(Hdiff_final_df_pLoF_skato$Hdiff_pLoF, df=1, lower.tail=FALSE), na.rm=TRUE) / qchisq(0.5, 1)\n",
    "median(qchisq(Hdiff_final_df_pLoF_burden$Hdiff_pLoF, df=1, lower.tail=FALSE), na.rm=TRUE) / qchisq(0.5, 1)"
   ]
  },
  {
   "cell_type": "code",
   "execution_count": null,
   "id": "d752be81-1e59-4a41-9beb-b248c2503a82",
   "metadata": {
    "tags": []
   },
   "outputs": [],
   "source": [
    "# generate qq plot for genes\n",
    "generate_qq_plot_gene(Hdiff_final_df_pLoF_missense_splicing_skato,  \"Hdiff_pLoF_missense_splice_qq_plot_gene_skato\", display = FALSE, format = \"pdf\")\n",
    "generate_qq_plot_gene(Hdiff_final_df_pLoF_missense_splicing_skato,  \"Hdiff_pLoF_missense_splice_qq_plot_gene_skato\", display = FALSE, format = \"png\")\n",
    "generate_qq_plot_gene(Hdiff_final_df_pLoF_missense_splicing_burden,  \"Hdiff_pLoF_missense_splice_qq_plot_gene_burden\", display = FALSE, format = \"pdf\")\n",
    "generate_qq_plot_gene(Hdiff_final_df_pLoF_missense_splicing_burden,  \"Hdiff_pLoF_missense_splice_qq_plot_gene_burden\", display = FALSE, format = \"png\")\n",
    "median(qchisq(Hdiff_final_df_pLoF_missense_splicing_skato$Hdiff_pLoF_missense_splice, df=1, lower.tail=FALSE), na.rm=TRUE) / qchisq(0.5, 1)\n",
    "median(qchisq(Hdiff_final_df_pLoF_missense_splicing_burden$Hdiff_pLoF_missense_splice, df=1, lower.tail=FALSE), na.rm=TRUE) / qchisq(0.5, 1)"
   ]
  },
  {
   "cell_type": "markdown",
   "id": "303d4683-3593-44f1-ab6d-401e217d7ddd",
   "metadata": {},
   "source": [
    "### Hnoise"
   ]
  },
  {
   "cell_type": "code",
   "execution_count": null,
   "id": "f6a71d0b-6977-4e9b-ae34-d2eaaedaeb3c",
   "metadata": {
    "tags": []
   },
   "outputs": [],
   "source": [
    "# generate qq plot for genes\n",
    "generate_qq_plot_gene(Hnoise_final_df_pLoF_skato,  \"Hnoise_pLoF_qq_plot_gene_skato\", display = FALSE, format = \"pdf\")\n",
    "generate_qq_plot_gene(Hnoise_final_df_pLoF_skato,  \"Hnoise_pLoF_qq_plot_gene_skato\", display = FALSE, format = \"png\")\n",
    "generate_qq_plot_gene(Hnoise_final_df_pLoF_burden,  \"Hnoise_pLoF_qq_plot_gene_burden\", display = FALSE, format = \"pdf\")\n",
    "generate_qq_plot_gene(Hnoise_final_df_pLoF_burden,  \"Hnoise_pLoF_qq_plot_gene_burden\", display = FALSE, format = \"png\")\n",
    "median(qchisq(Hnoise_final_df_pLoF_skato$Hnoise_pLoF, df=1, lower.tail=FALSE), na.rm=TRUE) / qchisq(0.5, 1)\n",
    "median(qchisq(Hnoise_final_df_pLoF_burden$Hnoise_pLoF, df=1, lower.tail=FALSE), na.rm=TRUE) / qchisq(0.5, 1)"
   ]
  },
  {
   "cell_type": "code",
   "execution_count": null,
   "id": "503e2fb9-fd02-4236-96f4-fc0ed1ae4be0",
   "metadata": {
    "tags": []
   },
   "outputs": [],
   "source": [
    "# generate qq plot for genes\n",
    "generate_qq_plot_gene(Hnoise_final_df_pLoF_missense_splicing_skato,  \"Hnoise_pLoF_missense_splice_qq_plot_gene_skato\", display = FALSE, format = \"pdf\")\n",
    "generate_qq_plot_gene(Hnoise_final_df_pLoF_missense_splicing_skato,  \"Hnoise_pLoF_missense_splice_qq_plot_gene_skato\", display = FALSE, format = \"png\")\n",
    "generate_qq_plot_gene(Hnoise_final_df_pLoF_missense_splicing_burden,  \"Hnoise_pLoF_missense_splice_qq_plot_gene_burden\", display = FALSE, format = \"pdf\")\n",
    "generate_qq_plot_gene(Hnoise_final_df_pLoF_missense_splicing_burden,  \"Hnoise_pLoF_missense_splice_qq_plot_gene_burden\", display = FALSE, format = \"png\")\n",
    "median(qchisq(Hnoise_final_df_pLoF_missense_splicing_skato$Hnoise_pLoF_missense_splice, df=1, lower.tail=FALSE), na.rm=TRUE) / qchisq(0.5, 1)\n",
    "median(qchisq(Hnoise_final_df_pLoF_missense_splicing_burden$Hnoise_pLoF_missense_splice, df=1, lower.tail=FALSE), na.rm=TRUE) / qchisq(0.5, 1)"
   ]
  },
  {
   "cell_type": "markdown",
   "id": "aba29ab1-4847-4e69-bcde-466ae21b560a",
   "metadata": {},
   "source": [
    "# Variant level"
   ]
  },
  {
   "cell_type": "markdown",
   "id": "5976fc96-ecbf-4a7c-821b-91e5a50cb305",
   "metadata": {},
   "source": [
    "## Import data"
   ]
  },
  {
   "cell_type": "code",
   "execution_count": null,
   "id": "df0a88cd-999f-482d-9522-e58c49dc1853",
   "metadata": {
    "tags": []
   },
   "outputs": [],
   "source": [
    "Haid_variant = import_variant_data(pheno = \"Haid\", data_field = \"f3393\")"
   ]
  },
  {
   "cell_type": "code",
   "execution_count": null,
   "id": "955f80d1-74b0-42f1-89af-ae662023d836",
   "metadata": {
    "tags": []
   },
   "outputs": [],
   "source": [
    "Hboth_variant = import_variant_data(pheno = \"Hboth\", data_field = \"f2247_f2257\")"
   ]
  },
  {
   "cell_type": "code",
   "execution_count": null,
   "id": "f5940016-c888-4a65-9f13-b83b978b8fd3",
   "metadata": {
    "tags": []
   },
   "outputs": [],
   "source": [
    "Hdiff_variant = import_variant_data(pheno = \"Hdiff\", data_field = \"f2247\")"
   ]
  },
  {
   "cell_type": "code",
   "execution_count": null,
   "id": "907cce12-1e3b-409a-9066-3c3e2f12bfbc",
   "metadata": {
    "tags": []
   },
   "outputs": [],
   "source": [
    "Hnoise_variant = import_variant_data(pheno = \"Hnoise\", data_field = \"f2257\")"
   ]
  },
  {
   "cell_type": "markdown",
   "id": "206e8de6-bc4d-4bf0-a16d-7e5ab710ee7a",
   "metadata": {},
   "source": [
    "## Manhattan --real"
   ]
  },
  {
   "cell_type": "markdown",
   "id": "6b3d7b21-1859-429d-840e-25e444167e4d",
   "metadata": {},
   "source": [
    "### Haid"
   ]
  },
  {
   "cell_type": "code",
   "execution_count": null,
   "id": "f58667ea-d241-4827-ad2e-dab1e3138356",
   "metadata": {
    "tags": []
   },
   "outputs": [],
   "source": [
    "time_1 <- Sys.time()\n",
    "generate_manhattan_plot_variants_annot_gene(pheno = \"Haid\", \n",
    "                                            df = Haid_variant$rare, \n",
    "                                            plot_file_name=\"Haid_manhattan_plot_rare_variants\", \n",
    "                                            display = FALSE, format = \"pdf\")\n",
    "time_2 <- Sys.time()\n",
    "hms_span(time_1, time_2)"
   ]
  },
  {
   "cell_type": "code",
   "execution_count": null,
   "id": "05cd4885-1b36-49e9-becc-bd825aa260fa",
   "metadata": {
    "tags": []
   },
   "outputs": [],
   "source": [
    "time_1 <- Sys.time()\n",
    "generate_manhattan_plot_variants_annot_gene(pheno = \"Haid\", \n",
    "                                            df = Haid_variant$rare, \n",
    "                                            plot_file_name=\"Haid_manhattan_plot_rare_variants\", \n",
    "                                            display = FALSE, format = \"png\")\n",
    "time_2 <- Sys.time()\n",
    "hms_span(time_1, time_2)"
   ]
  },
  {
   "cell_type": "markdown",
   "id": "58eeed95-c06f-475a-b334-8b34e6c9c859",
   "metadata": {
    "tags": []
   },
   "source": [
    "### Hboth"
   ]
  },
  {
   "cell_type": "code",
   "execution_count": null,
   "id": "08348473-2ce9-4594-8d0c-ff4913803896",
   "metadata": {},
   "outputs": [],
   "source": [
    "time_1 <- Sys.time()\n",
    "generate_manhattan_plot_variants_annot_gene(pheno = \"Hboth\", \n",
    "                                            df = Hboth_variant$rare,\n",
    "                                            plot_file_name = \"Hboth_manhattan_plot_rare_variants\",\n",
    "                                            display = FALSE, format = \"pdf\")\n",
    "time_2 <- Sys.time()\n",
    "hms_span(time_1, time_2)"
   ]
  },
  {
   "cell_type": "code",
   "execution_count": null,
   "id": "4fbb7b8c-755e-4dd9-9b14-16cd3e91bb59",
   "metadata": {},
   "outputs": [],
   "source": [
    "time_1 <- Sys.time()\n",
    "generate_manhattan_plot_variants_annot_gene(pheno = \"Hboth\", \n",
    "                                            df = Hboth_variant$rare,\n",
    "                                            plot_file_name = \"Hboth_manhattan_plot_rare_variants\",\n",
    "                                            display = FALSE, format = \"png\")\n",
    "time_2 <- Sys.time()\n",
    "hms_span(time_1, time_2)"
   ]
  },
  {
   "cell_type": "markdown",
   "id": "12e784e1-e2a3-4109-84da-ca36e32f689e",
   "metadata": {
    "tags": []
   },
   "source": [
    "### Hdiff"
   ]
  },
  {
   "cell_type": "code",
   "execution_count": null,
   "id": "aafb2467-064c-4b35-9af4-4fc9f36d6df4",
   "metadata": {},
   "outputs": [],
   "source": [
    "time_1 <- Sys.time()\n",
    "generate_manhattan_plot_variants_annot_gene(pheno = \"Hdiff\", \n",
    "                                            df = Hdiff_variant$rare,\n",
    "                                            plot_file_name = \"Hdiff_manhattan_plot_rare_variants\",\n",
    "                                            display = FALSE, format = \"pdf\")\n",
    "time_2 <- Sys.time()\n",
    "hms_span(time_1, time_2)"
   ]
  },
  {
   "cell_type": "code",
   "execution_count": null,
   "id": "0fdda0a9-36e4-4daa-bec5-0bb93bfdf084",
   "metadata": {},
   "outputs": [],
   "source": [
    "time_1 <- Sys.time()\n",
    "generate_manhattan_plot_variants_annot_gene(pheno = \"Hdiff\", \n",
    "                                            df = Hdiff_variant$rare,\n",
    "                                            plot_file_name = \"Hdiff_manhattan_plot_rare_variants\",\n",
    "                                            display = FALSE, format = \"png\")\n",
    "time_2 <- Sys.time()\n",
    "hms_span(time_1, time_2)"
   ]
  },
  {
   "cell_type": "markdown",
   "id": "8187af27-9970-4bb9-8eac-28608703f14c",
   "metadata": {
    "tags": []
   },
   "source": [
    "### Hnoise"
   ]
  },
  {
   "cell_type": "code",
   "execution_count": null,
   "id": "c945b921-4e19-4733-9bff-4894028ee42f",
   "metadata": {},
   "outputs": [],
   "source": [
    "time_1 <- Sys.time()\n",
    "generate_manhattan_plot_variants_annot_gene(pheno = \"Hnoise\", \n",
    "                                            df = Hnoise_variant$rare,\n",
    "                                            plot_file_name = \"Hnoise_manhattan_plot_rare_variants\",\n",
    "                                            display = FALSE, format = \"pdf\")\n",
    "time_2 <- Sys.time()\n",
    "hms_span(time_1, time_2)"
   ]
  },
  {
   "cell_type": "code",
   "execution_count": null,
   "id": "069051e6-763e-4457-bbfa-6c5d1fcc8ecb",
   "metadata": {},
   "outputs": [],
   "source": [
    "time_1 <- Sys.time()\n",
    "generate_manhattan_plot_variants_annot_gene(pheno = \"Hnoise\", \n",
    "                                            df = Hnoise_variant$rare,\n",
    "                                            plot_file_name = \"Hnoise_manhattan_plot_rare_variants\",\n",
    "                                            display = FALSE, format = \"png\")\n",
    "time_2 <- Sys.time()\n",
    "hms_span(time_1, time_2)"
   ]
  },
  {
   "cell_type": "markdown",
   "id": "147a1ce6-043f-4a6b-bc3d-fd6bca75c7f9",
   "metadata": {},
   "source": [
    "## QQ plots for all variants"
   ]
  },
  {
   "cell_type": "markdown",
   "id": "4b43a004-e659-4177-8539-fc1dd4be377c",
   "metadata": {
    "tags": []
   },
   "source": [
    "### Haid"
   ]
  },
  {
   "cell_type": "code",
   "execution_count": null,
   "id": "46df7888-8a3a-413e-b72b-df4f385722f7",
   "metadata": {
    "tags": []
   },
   "outputs": [],
   "source": [
    "median(qchisq(Haid_variant$all$Haid, df=1, lower.tail=FALSE), na.rm=TRUE) / qchisq(0.5, 1)\n",
    "generate_qq_plot_variant(Haid_variant$all, plot_file_name = \"Haid_qq_plot_variants_all\", display = FALSE, format = \"pdf\")\n",
    "generate_qq_plot_variant(Haid_variant$all, plot_file_name = \"Haid_qq_plot_variants_all\", display = FALSE, format = \"png\")"
   ]
  },
  {
   "cell_type": "markdown",
   "id": "02a7e6b8-5456-4360-a8ba-8d117d5b8c8c",
   "metadata": {},
   "source": [
    "### Hboth"
   ]
  },
  {
   "cell_type": "code",
   "execution_count": null,
   "id": "9df64c3a-c8b7-4e77-ba9c-7151857630de",
   "metadata": {
    "tags": []
   },
   "outputs": [],
   "source": [
    "median(qchisq(Hboth_variant$all$Hboth, df = 1, lower.tail = FALSE), na.rm = TRUE) / qchisq(0.5, 1)\n",
    "generate_qq_plot_variant(Hboth_variant$all, plot_file_name = \"Hboth_qq_plot_variants_all\", display = FALSE, format = \"pdf\")\n",
    "generate_qq_plot_variant(Hboth_variant$all, plot_file_name = \"Hboth_qq_plot_variants_all\", display = FALSE, format = \"png\")"
   ]
  },
  {
   "cell_type": "markdown",
   "id": "3e9a2362-6add-4007-8fe5-acc64f0605b6",
   "metadata": {},
   "source": [
    "### Hdiff"
   ]
  },
  {
   "cell_type": "code",
   "execution_count": null,
   "id": "9856f66d-3088-4cdf-8eb7-180ae1cd7c09",
   "metadata": {
    "tags": []
   },
   "outputs": [],
   "source": [
    "median(qchisq(Hdiff_variant$all$Hdiff, df = 1, lower.tail = FALSE), na.rm = TRUE) / qchisq(0.5, 1)\n",
    "generate_qq_plot_variant(Hdiff_variant$all, plot_file_name = \"Hdiff_qq_plot_variants_all\", display = FALSE, format = \"pdf\")\n",
    "generate_qq_plot_variant(Hdiff_variant$all, plot_file_name = \"Hdiff_qq_plot_variants_all\", display = FALSE, format = \"png\")"
   ]
  },
  {
   "cell_type": "markdown",
   "id": "919dce8a-c1ce-4837-a5c9-9d542e9816a9",
   "metadata": {},
   "source": [
    "### Hnoise"
   ]
  },
  {
   "cell_type": "code",
   "execution_count": null,
   "id": "3af2f1bf-b740-40d6-8ec6-8d672e86f1c3",
   "metadata": {
    "tags": []
   },
   "outputs": [],
   "source": [
    "median(qchisq(Hnoise_variant$all$Hnoise, df = 1, lower.tail = FALSE), na.rm = TRUE) / qchisq(0.5, 1)\n",
    "generate_qq_plot_variant(Hnoise_variant$all, plot_file_name = \"Hnoise_qq_plot_variants_all\", display = FALSE, format = \"pdf\")\n",
    "generate_qq_plot_variant(Hnoise_variant$all, plot_file_name = \"Hnoise_qq_plot_variants_all\", display = FALSE, format = \"png\")"
   ]
  },
  {
   "cell_type": "code",
   "execution_count": null,
   "id": "8aeee07c-0111-4a70-a23c-e1ae71891c41",
   "metadata": {},
   "outputs": [],
   "source": []
  }
 ],
 "metadata": {
  "kernelspec": {
   "display_name": "R",
   "language": "R",
   "name": "ir"
  },
  "language_info": {
   "codemirror_mode": "r",
   "file_extension": ".r",
   "mimetype": "text/x-r-source",
   "name": "R",
   "pygments_lexer": "r",
   "version": "4.4.1"
  },
  "toc-autonumbering": true
 },
 "nbformat": 4,
 "nbformat_minor": 5
}
