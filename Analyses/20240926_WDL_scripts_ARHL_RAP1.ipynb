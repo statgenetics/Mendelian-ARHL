{
 "cells": [
  {
   "cell_type": "markdown",
   "id": "74f68b73-fcde-4484-a977-fb7c63c9d154",
   "metadata": {
    "kernel": "SoS"
   },
   "source": [
    "# Mendelian ARHL\n",
    "\n",
    "## Description:\n",
    "\n",
    "This notebook contains the scripts submitted to the Research Analysis Platform in order to generate the single variant and rare-variant aggregate analysis results for the UK Biobank participants with age-related hearing loss"
   ]
  },
  {
   "cell_type": "markdown",
   "id": "511a1309-1ca0-49a3-941d-01cde2b1f186",
   "metadata": {
    "kernel": "SoS"
   },
   "source": [
    "# 1. Rare-variant aggreate analysis \n"
   ]
  },
  {
   "cell_type": "code",
   "execution_count": null,
   "id": "996b7d7c-a20b-4608-a0a7-076db2875fda",
   "metadata": {
    "kernel": "SoS",
    "scrolled": true
   },
   "outputs": [],
   "source": [
    "dx find data --folder \"project:/vcf_qc_autosomes_rap1/merged_chr_files/plink_bpgen/\" --name \"*.pgen\" --delim | sort -Vk 4 -t$'\\t' > pgen_step2_rap1_sorted_regenie.txt"
   ]
  },
  {
   "cell_type": "code",
   "execution_count": null,
   "id": "3701586e-91c7-4b41-aaab-ab2a0ca67877",
   "metadata": {
    "kernel": "SoS",
    "scrolled": true
   },
   "outputs": [],
   "source": [
    "dx find data --folder \"project:/vcf_qc_autosomes_rap1/merged_chr_files/plink_bpgen/\" --name \"*.pvar\" --delim | sort -Vk 4 -t$'\\t' > pvar_step2_rap1_sorted_regenie.txt"
   ]
  },
  {
   "cell_type": "code",
   "execution_count": null,
   "id": "2c81fb0f-81a1-4c59-99c2-14979b3d055e",
   "metadata": {
    "kernel": "SoS",
    "scrolled": true
   },
   "outputs": [],
   "source": [
    "dx find data --folder \"project:/vcf_qc_autosomes_rap1/merged_chr_files/plink_bpgen/\" --name \"*.psam\" --delim | sort -Vk 4 -t$'\\t' > psam_step2_rap1_sorted_regenie.txt"
   ]
  },
  {
   "cell_type": "code",
   "execution_count": null,
   "id": "0a346547-c77d-47e4-a5de-c1f9f4bf6f08",
   "metadata": {
    "kernel": "SoS",
    "scrolled": true
   },
   "outputs": [],
   "source": [
    "# Now create the tsv file in the order pgen, psam, pvar, chr_name\n",
    "/vcf_qc_autosomes_rap3/merged_chr_files/plink_bpgen/pgen_step2_regenie_file.tsv"
   ]
  },
  {
   "cell_type": "markdown",
   "id": "e975784b-79b1-464d-a503-fe20acaf76f4",
   "metadata": {
    "kernel": "SoS"
   },
   "source": [
    "## H-aid"
   ]
  },
  {
   "cell_type": "markdown",
   "id": "ec1978b5-835c-40c8-8192-b687f5774095",
   "metadata": {
    "kernel": "SoS"
   },
   "source": [
    "### Compile `dx.json` file using a `.json` file"
   ]
  },
  {
   "cell_type": "code",
   "execution_count": null,
   "id": "3c1f932c-5fe7-42b8-91b0-e5c812bf279a",
   "metadata": {
    "kernel": "SoS"
   },
   "outputs": [],
   "source": [
    "java -jar dxCompiler-2.11.0.jar compile ~/WDL-UKB-RAP/workflows/step4_regenie_pgen.wdl \\\n",
    "-project project \\\n",
    "-folder /workflows/ \\\n",
    "-inputs ~/WDL-UKB-RAP/job_submission/regenie_rap1_aggregate_ARHL/input_pgen_skato_rap1_f3393_500k.json -compileMode IR"
   ]
  },
  {
   "cell_type": "markdown",
   "id": "aabd004d-f012-4c7a-9ef6-84c977420560",
   "metadata": {
    "kernel": "SoS"
   },
   "source": [
    "### Submit the job with the compiled input `dx.json`"
   ]
  },
  {
   "cell_type": "code",
   "execution_count": null,
   "id": "ce720195-4ed1-4422-9e5d-33d192d1a128",
   "metadata": {
    "kernel": "SoS"
   },
   "outputs": [],
   "source": [
    "dx run /workflows/workflow-Gf2936QJZXy2xZ6BbQ5jj2j9 \\\n",
    "-f ~/WDL-UKB-RAP/job_submission/regenie_rap1_aggregate_ARHL/input_pgen_skato_rap1_f3393_500k.dx.json \\\n",
    "--tag Haid_500K \\\n",
    "--tag aggregate \\\n",
    "--tag cadd_vep \\\n",
    "--folder=/results/autosomal/aggregate_tests/RAP1/Haid_CADD_skato_0.005/ \\\n",
    "--priority normal   \\\n",
    "--instance-type mem2_ssd1_v2_x16  -y --brief"
   ]
  },
  {
   "cell_type": "markdown",
   "id": "eea8576d-4345-4b08-9f13-90b8435f9279",
   "metadata": {
    "kernel": "SoS"
   },
   "source": [
    "## H-diff"
   ]
  },
  {
   "cell_type": "code",
   "execution_count": null,
   "id": "f6ffef09-1c6f-4d21-8e68-0e4b35b2e95b",
   "metadata": {
    "kernel": "SoS"
   },
   "outputs": [],
   "source": [
    "java -jar dxCompiler-2.11.0.jar compile ~/WDL-UKB-RAP/workflows/step4_regenie_pgen.wdl \\\n",
    "-project project \\\n",
    "-folder /workflows/ \\\n",
    "-inputs ~/WDL-UKB-RAP/job_submission/regenie_rap1_aggregate_ARHL/input_pgen_skato_rap1_f2247_500k.json -compileMode IR"
   ]
  },
  {
   "cell_type": "code",
   "execution_count": null,
   "id": "ef3aa946-6de5-489b-9c9a-b2f8bb4d6430",
   "metadata": {
    "kernel": "SoS"
   },
   "outputs": [],
   "source": [
    "dx run /workflows/workflow-Gf2936QJZXy2xZ6BbQ5jj2j9 \\\n",
    "-f ~/WDL-UKB-RAP/job_submission/regenie_rap1_aggregate_ARHL/input_pgen_skato_rap1_f2247_500k.dx.json \\\n",
    "--tag Hdiff_500K \\\n",
    "--tag aggregate \\\n",
    "--tag cadd_vep \\\n",
    "--folder=/results/autosomal/aggregate_tests/RAP1/Hdiff_CADD_skato_0.005/ \\\n",
    "--priority normal   \\\n",
    "--instance-type mem2_ssd1_v2_x16  -y --brief"
   ]
  },
  {
   "cell_type": "markdown",
   "id": "c7f9d7e3-db83-4911-ab3c-1ff5a235aec2",
   "metadata": {
    "kernel": "SoS"
   },
   "source": [
    "## H-noise"
   ]
  },
  {
   "cell_type": "code",
   "execution_count": null,
   "id": "3d37049f-1ae1-4a0c-bc96-e0259d906195",
   "metadata": {
    "kernel": "SoS"
   },
   "outputs": [],
   "source": [
    "java -jar dxCompiler-2.11.0.jar compile ~/WDL-UKB-RAP/workflows/step4_regenie_pgen.wdl \\\n",
    "-project project \\\n",
    "-folder /workflows/ \\\n",
    "-inputs ~/WDL-UKB-RAP/job_submission/regenie_rap1_aggregate_ARHL/input_pgen_skato_rap1_f2257_500k.json -compileMode IR"
   ]
  },
  {
   "cell_type": "code",
   "execution_count": null,
   "id": "bef34d9a-00b9-469e-916c-1a5b3b3b08e0",
   "metadata": {
    "kernel": "SoS"
   },
   "outputs": [],
   "source": [
    "dx run /workflows/workflow-Gf2936QJZXy2xZ6BbQ5jj2j9 \\\n",
    "-f ~/WDL_dnanexus/job_submission/regenie_rap1_aggregate_ARHL/input_pgen_skato_rap1_f2257_500k.dx.json \\\n",
    "--tag Hnoise_500K \\\n",
    "--tag aggregate \\\n",
    "--tag cadd_vep \\\n",
    "--folder=/results/autosomal/aggregate_tests/RAP1/Hnoise_CADD_skato_0.005/ \\\n",
    "--priority normal   \\\n",
    "--instance-type mem2_ssd1_v2_x16  -y --brief"
   ]
  },
  {
   "cell_type": "markdown",
   "id": "344b7dff-5622-42f2-80b4-2b7d20f647c4",
   "metadata": {
    "kernel": "SoS"
   },
   "source": [
    "## H-both"
   ]
  },
  {
   "cell_type": "code",
   "execution_count": null,
   "id": "967f4a0d-0e41-4786-9fee-824312ee9472",
   "metadata": {
    "kernel": "SoS"
   },
   "outputs": [],
   "source": [
    "java -jar dxCompiler-2.11.0.jar compile ~/WDL-UKB-RAP/workflows/step4_regenie_pgen.wdl \\\n",
    "-project project \\\n",
    "-folder /workflows/ \\\n",
    "-inputs ~/WDL-UKB-RAP/job_submission/regenie_rap1_aggregate_ARHL/input_pgen_skato_rap1_f2247_f2257_500k.json -compileMode IR"
   ]
  },
  {
   "cell_type": "code",
   "execution_count": null,
   "id": "9ee0a25f-1561-43e8-bfa0-c60a22fd2e60",
   "metadata": {
    "kernel": "SoS"
   },
   "outputs": [],
   "source": [
    "dx run /workflows/workflow-Gf2936QJZXy2xZ6BbQ5jj2j9 \\\n",
    "-f ~/WDL-UKB-RAP/job_submission/regenie_rap1_aggregate_ARHL/input_pgen_skato_rap1_f2245_f2257_500k.dx.json \\\n",
    "--tag Hboth_500K \\\n",
    "--tag aggregate \\\n",
    "--tag cadd_vep \\\n",
    "--folder=/results/autosomal/aggregate_tests/RAP1/Hboth_CADD_skato_0.005/ \\\n",
    "--priority normal   \\\n",
    "--instance-type mem2_ssd1_v2_x16  -y --brief"
   ]
  },
  {
   "cell_type": "markdown",
   "id": "d100b763-896d-4a45-bdaa-1b1cbec141f5",
   "metadata": {
    "kernel": "SoS"
   },
   "source": [
    "# 2. Single variant analysis"
   ]
  },
  {
   "cell_type": "markdown",
   "id": "a9232c54-1116-44bc-8379-68f32250a1ec",
   "metadata": {
    "kernel": "SoS"
   },
   "source": [
    "## Compile the workflow"
   ]
  },
  {
   "cell_type": "code",
   "execution_count": null,
   "id": "84685efb-0721-48c4-969a-faa0fd2ae0f7",
   "metadata": {
    "kernel": "SoS"
   },
   "outputs": [],
   "source": [
    "java -jar dxCompiler-2.11.0.jar compile ~/WDL-UKB-RAP/workflows/step3_regenie_rap.wdl -f"
   ]
  },
  {
   "cell_type": "markdown",
   "id": "c3c21cfe-19cc-4082-8132-cf8d60316659",
   "metadata": {
    "kernel": "SoS"
   },
   "source": [
    "## Get the names of the `.bgen` and `.bgi` files"
   ]
  },
  {
   "cell_type": "code",
   "execution_count": null,
   "id": "eaf8e5d0-4926-471f-92d9-63e03e817bb1",
   "metadata": {
    "kernel": "SoS"
   },
   "outputs": [],
   "source": [
    "dx find data --folder \"project:/vcf_qc_autosomes_rap1/merged_chr_files/\" --name \"*.bgen\" --delim > input_vcfqced_bgen_rap1.txt\n",
    "\n",
    "dx find data --folder \"project:/vcf_qc_autosomes_rap1/merged_chr_files/\" --name \"*.bgi\" --delim > input_vcfqced_bgi_rap1.txt"
   ]
  },
  {
   "cell_type": "code",
   "execution_count": null,
   "id": "b4c7ee83-991b-4cbc-8f22-39e5fb0a306e",
   "metadata": {
    "kernel": "SoS"
   },
   "outputs": [],
   "source": [
    "cd ~/WDL-UKB-RAP/workflows/job_submission\n",
    "cat input_vcfqced_bgen_rap1.txt | sort -Vk 4 -t$'\\t' > input_vcfqced_bgen.sorted_rap1.txt\n",
    "cat input_vcfqced_bgi_rap1.txt | sort -Vk 4 -t$'\\t' > input_vcfqced_bgi.sorted_rap1.txt"
   ]
  },
  {
   "cell_type": "code",
   "execution_count": null,
   "id": "c3e4dc70-fa94-4825-b6ec-8af9cf5fac99",
   "metadata": {
    "kernel": "SoS"
   },
   "outputs": [],
   "source": [
    "~/WDL-UKB-RAPjob_submission\n",
    "python bgen_submission_regenie_rap1.py ~/WDL-UKB-RAP/job_submission/regenie_rap1_autosomes_ARHL/input_vcfqced_bgen.sorted_rap1.txt \\\n",
    "~/WDL-UKB-RAP/job_submission/regenie_rap1_autosomes_ARHL/input_vcfqced_bgi.sorted_rap1.txt 22 > submission_bgenconcat_regenie_rap1.txt"
   ]
  },
  {
   "cell_type": "markdown",
   "id": "a9ab2839-ecbf-4831-9847-5f3536cc3800",
   "metadata": {
    "kernel": "SoS"
   },
   "source": [
    "## H-aid"
   ]
  },
  {
   "cell_type": "code",
   "execution_count": null,
   "id": "945fc252-2811-4e6d-a7f5-bcc31244fac4",
   "metadata": {
    "kernel": "SoS"
   },
   "outputs": [],
   "source": [
    "java -jar dxCompiler-2.11.0.jar compile ~/WDL-UKB-RAP/workflows/step3_regenie_rap.wdl \\\n",
    "-project project \\\n",
    "-folder /workflows/ \\\n",
    "-inputs ~/WDL-UKB-RAP/job_submission/regenie_rap1_autosomes_ARHL/input_bgen_rap1_univariate_f3393_500K_ref_last.json -compileMode IR"
   ]
  },
  {
   "cell_type": "code",
   "execution_count": null,
   "id": "da0ddc38-1f6a-4ffa-8872-acfab63e12ad",
   "metadata": {
    "kernel": "SoS"
   },
   "outputs": [],
   "source": [
    "dx run /workflows/workflow-Gkp6PQ0JZXy65K5p9k0GG1K0 \\\n",
    "-f ~/WDL-UKB-RAP/job_submission/regenie_rap1_autosomes_ARHL/input_bgen_rap1_univariate_f3393_500K_ref_last.dx.json \\\n",
    "--tag Haid_500K \\\n",
    "--tag univariate \\\n",
    "--tag cadd_vep \\\n",
    "--folder=/results/autosomal/Haid_rap1_ref_last/ \\\n",
    "--priority normal   \\\n",
    "--instance-type mem2_ssd1_v2_x16  -y --brief"
   ]
  },
  {
   "cell_type": "markdown",
   "id": "446132b4-ef75-4724-b34d-b7d6717ca593",
   "metadata": {
    "kernel": "SoS"
   },
   "source": [
    "## H-diff"
   ]
  },
  {
   "cell_type": "code",
   "execution_count": null,
   "id": "df4c2e90-b920-42e5-91bf-768d8224a120",
   "metadata": {
    "kernel": "SoS"
   },
   "outputs": [],
   "source": [
    "java -jar dxCompiler-2.11.0.jar compile ~/WDL-UKB-RAP/workflows/step3_regenie_rap.wdl \\\n",
    "-project project \\\n",
    "-folder /workflows/ \\\n",
    "-inputs ~/WDL-UKB-RAP/job_submission/regenie_rap1_autosomes_ARHL/input_bgen_rap1_univariate_f2247_500K_ref_last.json -compileMode IR"
   ]
  },
  {
   "cell_type": "code",
   "execution_count": null,
   "id": "93113d40-8392-4653-a49e-914a7e8643dd",
   "metadata": {
    "kernel": "SoS"
   },
   "outputs": [],
   "source": [
    "dx run /workflows/workflow-Gkp6PQ0JZXy65K5p9k0GG1K0 \\\n",
    "-f ~/WDL-UKB-RAP/job_submission/regenie_rap1_autosomes_ARHL/input_bgen_rap1_univariate_f2247_500K_ref_last.dx.json \\\n",
    "--tag Hdiff_500K \\\n",
    "--tag univariate \\\n",
    "--tag cadd_vep \\\n",
    "--folder=/results/autosomal/Hdiff_rap1_ref_last/ \\\n",
    "--priority normal   \\\n",
    "--instance-type mem2_ssd1_v2_x16  -y --brief"
   ]
  },
  {
   "cell_type": "markdown",
   "id": "902cf0e2-9e56-4fc9-bf7a-e47256a5f336",
   "metadata": {
    "kernel": "SoS"
   },
   "source": [
    "## H-noise"
   ]
  },
  {
   "cell_type": "code",
   "execution_count": null,
   "id": "39c8d7e5-cdf0-45b2-b6b5-6aa71b60b4dc",
   "metadata": {
    "kernel": "SoS"
   },
   "outputs": [],
   "source": [
    "java -jar dxCompiler-2.11.0.jar compile ~/WDL-UKB-RAP/workflows/step3_regenie_rap.wdl \\\n",
    "-project project \\\n",
    "-folder /workflows/ \\\n",
    "-inputs ~/WDL-UKB-RAP/job_submission/regenie_rap1_autosomes_ARHL/input_bgen_rap1_univariate_f2257_500K_ref_last.json -compileMode IR"
   ]
  },
  {
   "cell_type": "code",
   "execution_count": null,
   "id": "36b1c10a-9ad2-405b-96a9-f024d42758f0",
   "metadata": {
    "kernel": "SoS"
   },
   "outputs": [],
   "source": [
    "dx run /workflows/workflow-Gkp6PQ0JZXy65K5p9k0GG1K0 \\\n",
    "-f ~/WDL-UKB-RAP/job_submission/regenie_rap1_autosomes_ARHL/input_bgen_rap1_univariate_f2257_500K_ref_last.dx.json \\\n",
    "--tag Hnoise_500K \\\n",
    "--tag univariate \\\n",
    "--tag cadd_vep \\\n",
    "--folder=/results/autosomal/Hnoise_rap1_ref_last/ \\\n",
    "--priority normal   \\\n",
    "--instance-type mem2_ssd1_v2_x16  -y --brief"
   ]
  },
  {
   "cell_type": "markdown",
   "id": "b2d3468a-a8a5-465f-bac6-cc45af483634",
   "metadata": {
    "kernel": "SoS"
   },
   "source": [
    "## H-both"
   ]
  },
  {
   "cell_type": "code",
   "execution_count": null,
   "id": "8eb91a62-c021-42af-a14d-a94c12598b49",
   "metadata": {
    "kernel": "SoS"
   },
   "outputs": [],
   "source": [
    "java -jar dxCompiler-2.11.0.jar compile ~/WDL-UKB-RAP/workflows/step3_regenie_rap.wdl \\\n",
    "-project project \\\n",
    "-folder /workflows/ \\\n",
    "-inputs ~/WDL-UKB-RAP/job_submission/regenie_rap1_autosomes_ARHL/input_bgen_rap1_univariate_f2247_f2257_500K_ref_last.json -compileMode IR"
   ]
  },
  {
   "cell_type": "code",
   "execution_count": null,
   "id": "ecf76a9d-83e2-49cc-aa0c-4f17154941a1",
   "metadata": {
    "kernel": "SoS"
   },
   "outputs": [],
   "source": [
    "dx run /workflows/workflow-Gkp6PQ0JZXy65K5p9k0GG1K0 \\\n",
    "-f ~/WDL-UKB-RAP/job_submission/regenie_rap1_autosomes_ARHL/input_bgen_rap1_univariate_f2247_f2257_500K_ref_last.dx.json \\\n",
    "--tag Hboth_500K \\\n",
    "--tag univariate \\\n",
    "--tag cadd_vep \\\n",
    "--folder=/results/autosomal/Hboth_rap1_ref_last/ \\\n",
    "--priority normal   \\\n",
    "--instance-type mem2_ssd1_v2_x16  -y --brief"
   ]
  }
 ],
 "metadata": {
  "kernelspec": {
   "display_name": "SoS",
   "language": "sos",
   "name": "sos"
  },
  "language_info": {
   "codemirror_mode": "sos",
   "file_extension": ".sos",
   "mimetype": "text/x-sos",
   "name": "sos",
   "nbconvert_exporter": "sos_notebook.converter.SoS_Exporter",
   "pygments_lexer": "sos"
  },
  "sos": {
   "kernels": [
    [
     "SoS",
     "sos",
     "",
     ""
    ]
   ],
   "version": ""
  }
 },
 "nbformat": 4,
 "nbformat_minor": 5
}
